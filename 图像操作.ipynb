{
 "cells": [
  {
   "cell_type": "code",
   "id": "initial_id",
   "metadata": {
    "collapsed": true,
    "ExecuteTime": {
     "end_time": "2024-08-28T01:47:32.148273Z",
     "start_time": "2024-08-28T01:47:31.648050Z"
    }
   },
   "source": [
    "import cv2\n",
    "import numpy as np"
   ],
   "outputs": [],
   "execution_count": 1
  },
  {
   "metadata": {
    "ExecuteTime": {
     "end_time": "2024-08-27T08:37:16.482206Z",
     "start_time": "2024-08-27T08:37:16.478417Z"
    }
   },
   "cell_type": "code",
   "source": [
    "# 读取图像\n",
    "# \n",
    "# cv2.namedWindow('Image', cv2.WINDOW_NORMAL)\n",
    "# cv2.resizeWindow('Image', 800, 600)  # 设置窗口大小\n",
    "# \n",
    "# image = cv2.imread('saila.jpg')\n",
    "# cv2.imshow('Image', image)\n",
    "# cv2.waitKey(0)\n",
    "# cv2.destroyAllWindows()"
   ],
   "id": "9dc2aedcce0ba87d",
   "outputs": [],
   "execution_count": 2
  },
  {
   "metadata": {
    "ExecuteTime": {
     "end_time": "2024-08-28T03:48:20.219841Z",
     "start_time": "2024-08-28T03:48:20.212978Z"
    }
   },
   "cell_type": "code",
   "source": [
    "def cv_show(image):\n",
    "    cv2.namedWindow('Image', cv2.WINDOW_NORMAL)\n",
    "    cv2.resizeWindow('Image', 1200, 800)  \n",
    "    cv2.imshow('Image', image)\n",
    "    cv2.waitKey(0)\n",
    "    cv2.destroyAllWindows()"
   ],
   "id": "16621501b2b2b1ea",
   "outputs": [],
   "execution_count": 6
  },
  {
   "metadata": {
    "ExecuteTime": {
     "end_time": "2024-08-27T08:40:43.144843Z",
     "start_time": "2024-08-27T08:40:39.416669Z"
    }
   },
   "cell_type": "code",
   "source": [
    "cv2.namedWindow('Image', cv2.WINDOW_NORMAL)\n",
    "cv2.resizeWindow('Image', 800, 600)  # 设置窗口大小\n",
    "image = cv2.imread('saila.jpg')\n",
    "# 使用高斯滤波实现高斯模糊，参数 (5, 5) 为核的大小，0 为标准差\n",
    "blurred_image = cv2.GaussianBlur(image, (13, 13), 1)\n",
    "# 显示结果\n",
    "cv2.imshow('Image', blurred_image)\n",
    "cv2.waitKey(0)\n",
    "cv2.destroyAllWindows()"
   ],
   "id": "14fbd4164174d728",
   "outputs": [],
   "execution_count": 5
  },
  {
   "metadata": {
    "ExecuteTime": {
     "end_time": "2024-08-27T09:03:20.701657Z",
     "start_time": "2024-08-27T09:03:12.154099Z"
    }
   },
   "cell_type": "code",
   "source": [
    "image = cv2.imread('saila.jpg')\n",
    "v1 = cv2.Canny(image, 100, 200)\n",
    "v2 = cv2.Canny(image, 40, 60)\n",
    "res = np.hstack((v1, v2))\n",
    "cv_show(res)"
   ],
   "id": "10ec99f1bb1e19f9",
   "outputs": [],
   "execution_count": 13
  },
  {
   "metadata": {
    "ExecuteTime": {
     "end_time": "2024-08-28T03:51:48.087955Z",
     "start_time": "2024-08-28T03:51:46.919503Z"
    }
   },
   "cell_type": "code",
   "source": [
    "img = cv2.imread('saila.jpg')\n",
    "gray = cv2.cvtColor(img, cv2.COLOR_BGR2GRAY)\n",
    "ret, thresh = cv2.threshold(gray, 127, 255, cv2.THRESH_BINARY)\n",
    "cv_show(thresh)"
   ],
   "id": "422f8e282d3f54da",
   "outputs": [],
   "execution_count": 10
  },
  {
   "metadata": {
    "ExecuteTime": {
     "end_time": "2024-08-28T03:55:20.565568Z",
     "start_time": "2024-08-28T03:55:20.508053Z"
    }
   },
   "cell_type": "code",
   "source": "contours, hierarchy = cv2.findContours(thresh, cv2.RETR_TREE, cv2.CHAIN_APPROX_NONE)",
   "id": "c7b3eadfcdbe4f35",
   "outputs": [],
   "execution_count": 12
  },
  {
   "metadata": {
    "ExecuteTime": {
     "end_time": "2024-08-28T04:16:09.082601Z",
     "start_time": "2024-08-28T04:16:05.385215Z"
    }
   },
   "cell_type": "code",
   "source": [
    "draw_img = img.copy()\n",
    "res = cv2.drawContours(draw_img, contours, -1, (0, 255, 0), 2)\n",
    "cv_show(res)"
   ],
   "id": "7124fbf22f1a6100",
   "outputs": [],
   "execution_count": 28
  },
  {
   "metadata": {
    "ExecuteTime": {
     "end_time": "2024-08-28T04:19:10.444475Z",
     "start_time": "2024-08-28T04:18:34.747177Z"
    }
   },
   "cell_type": "code",
   "source": [
    "# 初始化最大周长和对应的轮廓变量\n",
    "max_perimeter = 0\n",
    "max_contour = None\n",
    "\n",
    "# 遍历所有轮廓，计算每个轮廓的周长\n",
    "for contour in contours:\n",
    "    perimeter = cv2.arcLength(contour, True)  # True 表示闭合的轮廓\n",
    "    if perimeter > max_perimeter:\n",
    "        max_perimeter = perimeter\n",
    "        max_contour = contour\n",
    "draw_img2 = img.copy()\n",
    "max_res = cv2.drawContours(draw_img2, [max_contour], -1, (0, 255, 0), 2)\n",
    "cv_show(max_res)"
   ],
   "id": "667e079069490a75",
   "outputs": [],
   "execution_count": 31
  },
  {
   "metadata": {
    "ExecuteTime": {
     "end_time": "2024-08-28T07:19:27.706235Z",
     "start_time": "2024-08-28T07:19:22.960914Z"
    }
   },
   "cell_type": "code",
   "source": [
    "# 高斯金字塔\n",
    "img = cv2.imread('saila.jpg')\n",
    "down = cv2.pyrDown(cv2.pyrDown(img))\n",
    "cv_show(down)"
   ],
   "id": "57375c9f8ff02a56",
   "outputs": [],
   "execution_count": 36
  },
  {
   "metadata": {},
   "cell_type": "code",
   "outputs": [],
   "execution_count": null,
   "source": "",
   "id": "7b4cfbb93f516444"
  }
 ],
 "metadata": {
  "kernelspec": {
   "display_name": "Python 3",
   "language": "python",
   "name": "python3"
  },
  "language_info": {
   "codemirror_mode": {
    "name": "ipython",
    "version": 2
   },
   "file_extension": ".py",
   "mimetype": "text/x-python",
   "name": "python",
   "nbconvert_exporter": "python",
   "pygments_lexer": "ipython2",
   "version": "2.7.6"
  }
 },
 "nbformat": 4,
 "nbformat_minor": 5
}
